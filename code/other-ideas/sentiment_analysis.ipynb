{
 "cells": [
  {
   "cell_type": "code",
   "execution_count": 1,
   "metadata": {},
   "outputs": [
    {
     "name": "stderr",
     "output_type": "stream",
     "text": [
      "/home/dominik/.conda/envs/docAnaProject/lib/python3.9/site-packages/tqdm/auto.py:21: TqdmWarning: IProgress not found. Please update jupyter and ipywidgets. See https://ipywidgets.readthedocs.io/en/stable/user_install.html\n",
      "  from .autonotebook import tqdm as notebook_tqdm\n",
      "Xet Storage is enabled for this repo, but the 'hf_xet' package is not installed. Falling back to regular HTTP download. For better performance, install the package with: `pip install huggingface_hub[hf_xet]` or `pip install hf_xet`\n",
      "Device set to use cpu\n",
      "/home/dominik/.conda/envs/docAnaProject/lib/python3.9/site-packages/transformers/pipelines/text_classification.py:106: UserWarning: `return_all_scores` is now deprecated,  if want a similar functionality use `top_k=None` instead of `return_all_scores=True` or `top_k=1` instead of `return_all_scores=False`.\n",
      "  warnings.warn(\n"
     ]
    },
    {
     "name": "stdout",
     "output_type": "stream",
     "text": [
      "Text: I can't stop laughing at this!\n",
      "Top Emotion: anger (confidence: 0.97)\n",
      "\n",
      "Text: I'm really sad about what happened.\n",
      "Top Emotion: sadness (confidence: 1.00)\n",
      "\n",
      "Text: You are making me so angry right now.\n",
      "Top Emotion: anger (confidence: 1.00)\n",
      "\n",
      "Text: Wow, that's amazing news!\n",
      "Top Emotion: surprise (confidence: 0.52)\n",
      "\n",
      "Text: Sure, like *that* ever works. 🙄\n",
      "Top Emotion: joy (confidence: 1.00)\n",
      "\n"
     ]
    }
   ],
   "source": [
    "from transformers import AutoTokenizer, AutoModelForSequenceClassification\n",
    "from transformers import pipeline\n",
    "import torch\n",
    "\n",
    "# Load a pretrained GoEmotions model\n",
    "model_name = \"bhadresh-savani/distilbert-base-uncased-emotion\"\n",
    "tokenizer = AutoTokenizer.from_pretrained(model_name)\n",
    "model = AutoModelForSequenceClassification.from_pretrained(model_name)\n",
    "\n",
    "# Create a pipeline for emotion classification\n",
    "emotion_classifier = pipeline(\"text-classification\", model=model, tokenizer=tokenizer, return_all_scores=True)\n",
    "\n",
    "# Sample text input\n",
    "texts = [\n",
    "    \"I can't stop laughing at this!\",\n",
    "    \"I'm really sad about what happened.\",\n",
    "    \"You are making me so angry right now.\",\n",
    "    \"Wow, that's amazing news!\",\n",
    "    \"Sure, like *that* ever works. 🙄\"\n",
    "]\n",
    "\n",
    "# Run emotion detection\n",
    "for text in texts:\n",
    "    results = emotion_classifier(text)[0]\n",
    "    sorted_results = sorted(results, key=lambda x: x['score'], reverse=True)\n",
    "    top_emotion = sorted_results[0]\n",
    "    print(f\"Text: {text}\")\n",
    "    print(f\"Top Emotion: {top_emotion['label']} (confidence: {top_emotion['score']:.2f})\\n\")\n"
   ]
  }
 ],
 "metadata": {
  "kernelspec": {
   "display_name": "docAnaProject",
   "language": "python",
   "name": "python3"
  },
  "language_info": {
   "codemirror_mode": {
    "name": "ipython",
    "version": 3
   },
   "file_extension": ".py",
   "mimetype": "text/x-python",
   "name": "python",
   "nbconvert_exporter": "python",
   "pygments_lexer": "ipython3",
   "version": "3.9.22"
  }
 },
 "nbformat": 4,
 "nbformat_minor": 2
}
